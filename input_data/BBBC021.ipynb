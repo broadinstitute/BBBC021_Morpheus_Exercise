{
 "cells": [
  {
   "cell_type": "code",
   "execution_count": 1,
   "id": "e7289244",
   "metadata": {},
   "outputs": [],
   "source": [
    "import pandas\n",
    "import pycytominer"
   ]
  },
  {
   "cell_type": "code",
   "execution_count": 2,
   "id": "2b19eed6",
   "metadata": {},
   "outputs": [
    {
     "data": {
      "text/plain": [
       "(632, 518)"
      ]
     },
     "execution_count": 2,
     "metadata": {},
     "output_type": "execute_result"
    }
   ],
   "source": [
    "aggregated_features = pandas.read_csv('ljosa_jbiomolscreen_2013_per_well_mean.csv')\n",
    "image_metadata = pandas.read_csv('BBBC021_v1_image.csv')\n",
    "moa_metadata = pandas.read_csv('BBBC021_v1_moa.csv')\n",
    "aggregated_features.shape"
   ]
  },
  {
   "cell_type": "code",
   "execution_count": 3,
   "id": "1f5b26de",
   "metadata": {},
   "outputs": [],
   "source": [
    "# The image_metadata has 4 sites per well, but we only want one here\n",
    "stripped_image_metadata = image_metadata[image_metadata['Image_FileName_Actin'].str.contains('_s1_')]"
   ]
  },
  {
   "cell_type": "code",
   "execution_count": 4,
   "id": "120ad736",
   "metadata": {},
   "outputs": [
    {
     "data": {
      "text/plain": [
       "(632, 531)"
      ]
     },
     "execution_count": 4,
     "metadata": {},
     "output_type": "execute_result"
    }
   ],
   "source": [
    "annotated_features = aggregated_features.merge(stripped_image_metadata, left_on=['Image_Metadata_Plate','Image_Metadata_Well'], right_on=['Image_Metadata_Plate_DAPI','Image_Metadata_Well_DAPI'], how='left')\n",
    "annotated_features.shape"
   ]
  },
  {
   "cell_type": "code",
   "execution_count": 5,
   "id": "0c1e756f",
   "metadata": {},
   "outputs": [
    {
     "data": {
      "text/plain": [
       "(632, 534)"
      ]
     },
     "execution_count": 5,
     "metadata": {},
     "output_type": "execute_result"
    }
   ],
   "source": [
    "moa_columns = {x:'Metadata_'+x for x in moa_metadata.columns if 'Metadata' not in x}\n",
    "moa_metadata = moa_metadata.rename(columns = moa_columns)\n",
    "moa_annotated_features = annotated_features.merge(moa_metadata, left_on=['Image_Metadata_Compound','Image_Metadata_Concentration'],right_on=['Metadata_compound','Metadata_concentration'],how='inner')\n",
    "moa_annotated_features.shape"
   ]
  },
  {
   "cell_type": "code",
   "execution_count": 6,
   "id": "a9a3a780",
   "metadata": {},
   "outputs": [
    {
     "data": {
      "text/plain": [
       "(632, 521)"
      ]
     },
     "execution_count": 6,
     "metadata": {},
     "output_type": "execute_result"
    }
   ],
   "source": [
    "metadata_cols = [x for x in moa_annotated_features.columns if 'Metadata' in x]\n",
    "non_metadata_cols = [x for x in  moa_annotated_features.columns if 'Metadata' not in x]\n",
    "reordered_annotated_features =  moa_annotated_features[metadata_cols+non_metadata_cols]\n",
    "namefixed_annotated_columns = {x:x[x.index('Metadata_'):] for x in reordered_annotated_features.columns if 'Metadata_' in x}\n",
    "namefixed_annotated_features = reordered_annotated_features.rename(columns=namefixed_annotated_columns)\n",
    "columns_to_manually_remove = ['Metadata_Plate_DAPI','Metadata_Well_DAPI','Metadata_compound',\n",
    "                              'Metadata_concentration','TableNumber','ImageNumber','Image_FileName_DAPI',\n",
    "                              'Image_PathName_DAPI','Image_FileName_Tubulin','Image_PathName_Tubulin',\n",
    "                              'Image_FileName_Actin','Image_PathName_Actin','Replicate']\n",
    "cleaned_features = namefixed_annotated_features.drop(columns=columns_to_manually_remove)\n",
    "cleaned_features.shape"
   ]
  },
  {
   "cell_type": "code",
   "execution_count": 7,
   "id": "1ff148bb",
   "metadata": {},
   "outputs": [],
   "source": [
    "cleaned_features.to_csv('BBBC021_annotated.csv',index=False)\n",
    "\n",
    "pycytominer.cyto_utils.write_gct(cleaned_features,output_file='BBBC021_annotated.gct')"
   ]
  },
  {
   "cell_type": "code",
   "execution_count": 8,
   "id": "7ce46844",
   "metadata": {},
   "outputs": [],
   "source": [
    "normalized = pycytominer.normalize(profiles=cleaned_features,method='mad_robustize')\n",
    "\n",
    "normalized.to_csv('BBBC021_normalized_mad_robustize.csv',index=False)\n",
    "\n",
    "pycytominer.cyto_utils.write_gct(normalized,output_file='BBBC021_normalized_mad_robustize.gct')"
   ]
  },
  {
   "cell_type": "code",
   "execution_count": 9,
   "id": "f753691b",
   "metadata": {},
   "outputs": [],
   "source": [
    "feature_selected = pycytominer.feature_select(profiles=normalized, operation = ['variance_threshold','correlation_threshold','drop_na_columns','blocklist'])\n",
    "\n",
    "feature_selected.to_csv('BBBC021_feature_selected_mad_robustize.csv',index=False)\n",
    "\n",
    "pycytominer.cyto_utils.write_gct(feature_selected,output_file='BBBC021_feature_selected_mad_robustize.gct')"
   ]
  },
  {
   "cell_type": "code",
   "execution_count": null,
   "id": "fe837388",
   "metadata": {},
   "outputs": [],
   "source": []
  }
 ],
 "metadata": {
  "kernelspec": {
   "display_name": "Python 3 (ipykernel)",
   "language": "python",
   "name": "python3"
  },
  "language_info": {
   "codemirror_mode": {
    "name": "ipython",
    "version": 3
   },
   "file_extension": ".py",
   "mimetype": "text/x-python",
   "name": "python",
   "nbconvert_exporter": "python",
   "pygments_lexer": "ipython3",
   "version": "3.8.11"
  }
 },
 "nbformat": 4,
 "nbformat_minor": 5
}
